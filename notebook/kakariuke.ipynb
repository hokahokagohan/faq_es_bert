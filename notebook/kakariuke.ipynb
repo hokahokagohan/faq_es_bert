{
 "cells": [
  {
   "cell_type": "code",
   "execution_count": 81,
   "metadata": {},
   "outputs": [],
   "source": [
    "import spacy\n",
    "from typing import Dict"
   ]
  },
  {
   "cell_type": "code",
   "execution_count": 3,
   "metadata": {},
   "outputs": [
    {
     "name": "stdout",
     "output_type": "stream",
     "text": [
      "0 昨日 昨日 NOUN 名詞-普通名詞-副詞可能 obl 6\n",
      "1 から から ADP 助詞-格助詞 case 0\n",
      "2 胃 胃 NOUN 名詞-普通名詞-一般 nsubj 6\n",
      "3 が が ADP 助詞-格助詞 case 2\n",
      "4 キリキリ キリキリ VERB 名詞-普通名詞-一般 advcl 6\n",
      "5 と と SCONJ 助詞-格助詞 mark 4\n",
      "6 痛い 痛い ADJ 形容詞-一般 ROOT 6\n",
      "EOS\n"
     ]
    }
   ],
   "source": [
    "nlp = spacy.load('ja_ginza')\n",
    "doc = nlp('昨日から胃がキリキリと痛い')\n",
    "\n",
    "for sent in doc.sents:\n",
    "  for token in sent:\n",
    "    print(token.i, token.orth_, token.lemma_, token.pos_, token.tag_, token.dep_, token.head.i)\n",
    "  print('EOS')"
   ]
  },
  {
   "cell_type": "code",
   "execution_count": 79,
   "metadata": {},
   "outputs": [
    {
     "name": "stdout",
     "output_type": "stream",
     "text": [
      "0 昨日 昨日 NOUN 名詞-普通名詞-副詞可能 obl 5\n",
      "1 から から ADP 助詞-格助詞 case 0\n",
      "2 胃 胃 NOUN 名詞-普通名詞-一般 nsubj 5\n",
      "3 が が ADP 助詞-格助詞 case 2\n",
      "4 キリキリ キリキリ ADV 名詞-普通名詞-一般 advmod 5\n",
      "5 痛む 痛む VERB 動詞-一般 ROOT 5\n",
      "6 。 。 PUNCT 補助記号-句点 punct 5\n",
      "EOS\n",
      "7 ただ ただ CCONJ 接続詞 cc 11\n",
      "8 、 、 PUNCT 補助記号-読点 punct 7\n",
      "9 熱 熱 NOUN 名詞-普通名詞-一般 nsubj 11\n",
      "10 は は ADP 助詞-係助詞 case 9\n",
      "11 ない ない ADJ 形容詞-非自立可能 ROOT 11\n",
      "EOS\n"
     ]
    }
   ],
   "source": [
    "nlp = spacy.load('ja_ginza')\n",
    "doc = nlp('昨日から胃がキリキリ痛む。ただ、熱はない')\n",
    "\n",
    "for sent in doc.sents:\n",
    "  for token in sent:\n",
    "    print(token.i, token.orth_, token.lemma_, token.pos_, token.tag_, token.dep_, token.head.i)\n",
    "  print('EOS')"
   ]
  },
  {
   "cell_type": "code",
   "execution_count": 82,
   "metadata": {},
   "outputs": [],
   "source": [
    "def parse_syntax_piece(sentence, nlp):\n",
    "  doc = nlp(sentence)\n",
    "  tokens = []\n",
    "  \n",
    "  for sent in doc.sents:\n",
    "    for token in sent:\n",
    "      tokens.append(token)\n",
    "  \n",
    "  print(tokens)\n",
    "  pieces = []\n",
    "  compound_words :Dict[int, str] = {}\n",
    "  \n",
    "  for token in tokens:\n",
    "    print(token.dep_)\n",
    "    \n",
    "    if token.i in compound_words.keys():\n",
    "      pieces.append(f'{compound_words[token.i] + token.orth_}:{tokens[token.head.i].lemma_}')\n",
    "      continue\n",
    "    \n",
    "    if token.dep_ in ['obj','nsubj', 'advmod', 'nmod', 'acl', 'advcl']:\n",
    "      pieces.append(f'{token.lemma_}:{tokens[token.head.i].lemma_}')\n",
    "    \n",
    "    # 複合名詞の一部は{係る先のindex:複合名詞}で保存しておきます\n",
    "    elif token.dep_ == 'compound':\n",
    "      if token.head.i not in compound_words.keys():\n",
    "        compound_words.setdefault(token.head.i, token.orth_)\n",
    "      else:\n",
    "        compound_words[token.head.i] += token.orth_\n",
    "    \n",
    "  \n",
    "  return pieces"
   ]
  },
  {
   "cell_type": "code",
   "execution_count": 54,
   "metadata": {},
   "outputs": [],
   "source": [
    "def parse_document(sentence, nlp):\n",
    "  doc = nlp(sentence)\n",
    "  tokens = []\n",
    "  \n",
    "  for sent in doc.sents:\n",
    "    for token in sent:\n",
    "      tokens.append(token)\n",
    "      \n",
    "  print(tokens)\n",
    "  subject_list = []\n",
    "  for token in tokens:\n",
    "    print(token.i, token.dep_, token.head.i)\n",
    "    \n",
    "    if token.dep_ == 'nsubj':\n",
    "      subject_list.append(f'{token.lemma_}:{tokens[token.head.i].lemma_}')\n",
    "  \n",
    "  return subject_list"
   ]
  },
  {
   "cell_type": "code",
   "execution_count": 85,
   "metadata": {},
   "outputs": [
    {
     "name": "stdout",
     "output_type": "stream",
     "text": [
      "[母子手帳, を, 受け取り, たい, の, です, が, 、, 手続き, を, 教え, て, ください, 。]\n",
      "obj\n",
      "case\n",
      "advcl\n",
      "aux\n",
      "mark\n",
      "fixed\n",
      "mark\n",
      "punct\n",
      "obj\n",
      "case\n",
      "ROOT\n",
      "mark\n",
      "fixed\n",
      "punct\n",
      "['母子手帳:受け取る', '受け取る:教える', '手続き:教える']\n"
     ]
    }
   ],
   "source": [
    "nlp = spacy.load('ja_ginza')\n",
    "print(parse_syntax_piece('母子手帳を受け取りたいのですが、手続きを教えてください。', nlp))"
   ]
  },
  {
   "cell_type": "code",
   "execution_count": null,
   "metadata": {},
   "outputs": [],
   "source": []
  }
 ],
 "metadata": {
  "interpreter": {
   "hash": "767d51c1340bd893661ea55ea3124f6de3c7a262a8b4abca0554b478b1e2ff90"
  },
  "kernelspec": {
   "display_name": "Python 3.8.10 64-bit",
   "language": "python",
   "name": "python3"
  },
  "language_info": {
   "codemirror_mode": {
    "name": "ipython",
    "version": 3
   },
   "file_extension": ".py",
   "mimetype": "text/x-python",
   "name": "python",
   "nbconvert_exporter": "python",
   "pygments_lexer": "ipython3",
   "version": "3.8.10"
  },
  "orig_nbformat": 4
 },
 "nbformat": 4,
 "nbformat_minor": 2
}
