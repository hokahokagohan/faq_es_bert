{
 "cells": [
  {
   "cell_type": "code",
   "execution_count": 9,
   "metadata": {},
   "outputs": [],
   "source": [
    "import pandas as pd\n",
    "import matplotlib"
   ]
  },
  {
   "cell_type": "code",
   "execution_count": 15,
   "metadata": {},
   "outputs": [
    {
     "data": {
      "text/html": [
       "<div>\n",
       "<style scoped>\n",
       "    .dataframe tbody tr th:only-of-type {\n",
       "        vertical-align: middle;\n",
       "    }\n",
       "\n",
       "    .dataframe tbody tr th {\n",
       "        vertical-align: top;\n",
       "    }\n",
       "\n",
       "    .dataframe thead th {\n",
       "        text-align: right;\n",
       "    }\n",
       "</style>\n",
       "<table border=\"1\" class=\"dataframe\">\n",
       "  <thead>\n",
       "    <tr style=\"text-align: right;\">\n",
       "      <th></th>\n",
       "      <th>id</th>\n",
       "      <th>sample_id</th>\n",
       "      <th>question</th>\n",
       "      <th>answer</th>\n",
       "      <th>category1</th>\n",
       "      <th>category2</th>\n",
       "      <th>source</th>\n",
       "      <th>tag</th>\n",
       "      <th>service_name</th>\n",
       "    </tr>\n",
       "  </thead>\n",
       "  <tbody>\n",
       "    <tr>\n",
       "      <th>0</th>\n",
       "      <td>1</td>\n",
       "      <td>1</td>\n",
       "      <td>母子手帳を受け取りたいのですが、手続きを教えてください。</td>\n",
       "      <td>窓口で妊娠届をご記入いただき、母子手帳をお渡しします。\\n住民票の世帯が別の方が代理で窓口に...</td>\n",
       "      <td>妊娠・出産</td>\n",
       "      <td>妊娠</td>\n",
       "      <td>NaN</td>\n",
       "      <td>妊娠・出産</td>\n",
       "      <td>妊娠の届出・母子健康手帳の交付</td>\n",
       "    </tr>\n",
       "    <tr>\n",
       "      <th>1</th>\n",
       "      <td>2</td>\n",
       "      <td>2</td>\n",
       "      <td>母子手帳の受け取り場所はどこですか？</td>\n",
       "      <td>母子手帳は、○○市役所本庁舎△△階××課窓口、◎◎出張所、………（その他の受け取り場所を適宜...</td>\n",
       "      <td>妊娠・出産</td>\n",
       "      <td>妊娠</td>\n",
       "      <td>NaN</td>\n",
       "      <td>妊娠・出産</td>\n",
       "      <td>妊娠の届出・母子健康手帳の交付</td>\n",
       "    </tr>\n",
       "    <tr>\n",
       "      <th>2</th>\n",
       "      <td>3</td>\n",
       "      <td>3</td>\n",
       "      <td>母子手帳はすぐに発行してもらえますか？</td>\n",
       "      <td>母子手帳は、妊娠届の内容を確認させていただき、その場でお渡しします。\\n\\n▼詳しくはこちら...</td>\n",
       "      <td>妊娠・出産</td>\n",
       "      <td>妊娠</td>\n",
       "      <td>NaN</td>\n",
       "      <td>妊娠・出産</td>\n",
       "      <td>妊娠の届出・母子健康手帳の交付</td>\n",
       "    </tr>\n",
       "    <tr>\n",
       "      <th>3</th>\n",
       "      <td>4</td>\n",
       "      <td>4</td>\n",
       "      <td>妊婦健診受診票はいつの分から使えますか？</td>\n",
       "      <td>妊婦健診の受診票は、受診票を受け取った日より後で、病院が妊婦健診と規定した日に利用できます。...</td>\n",
       "      <td>妊娠・出産</td>\n",
       "      <td>健診</td>\n",
       "      <td>NaN</td>\n",
       "      <td>妊娠・出産</td>\n",
       "      <td>妊婦健康診査</td>\n",
       "    </tr>\n",
       "    <tr>\n",
       "      <th>4</th>\n",
       "      <td>5</td>\n",
       "      <td>5</td>\n",
       "      <td>妊婦健診受診票は○○市外で使えますか？</td>\n",
       "      <td>妊婦健診の受診票は、●●県内の契約医療機関でお使いいただけます。\\n受診希望の病院にお問い合...</td>\n",
       "      <td>妊娠・出産</td>\n",
       "      <td>健診</td>\n",
       "      <td>NaN</td>\n",
       "      <td>妊娠・出産</td>\n",
       "      <td>妊婦健康診査</td>\n",
       "    </tr>\n",
       "    <tr>\n",
       "      <th>...</th>\n",
       "      <td>...</td>\n",
       "      <td>...</td>\n",
       "      <td>...</td>\n",
       "      <td>...</td>\n",
       "      <td>...</td>\n",
       "      <td>...</td>\n",
       "      <td>...</td>\n",
       "      <td>...</td>\n",
       "      <td>...</td>\n",
       "    </tr>\n",
       "    <tr>\n",
       "      <th>657</th>\n",
       "      <td>975</td>\n",
       "      <td>658</td>\n",
       "      <td>帰宅困難者の避難施設はどこですか？</td>\n",
       "      <td>帰宅困難者のための支援（受入）施設についてはこちらをご覧ください。\\n（自治体HP内関連ペー...</td>\n",
       "      <td>防災・防犯</td>\n",
       "      <td>NaN</td>\n",
       "      <td>NaN</td>\n",
       "      <td>防災・災害</td>\n",
       "      <td>帰宅困難者対策</td>\n",
       "    </tr>\n",
       "    <tr>\n",
       "      <th>658</th>\n",
       "      <td>976</td>\n",
       "      <td>659</td>\n",
       "      <td>住民税の納税証明書を取りたい。</td>\n",
       "      <td>住民税の納税証明書は、（申請場所（自治体の担当課、支所・出張所等））で発行しています。\\n申...</td>\n",
       "      <td>税金</td>\n",
       "      <td>住民税</td>\n",
       "      <td>NaN</td>\n",
       "      <td>税</td>\n",
       "      <td>市税の証明・閲覧</td>\n",
       "    </tr>\n",
       "    <tr>\n",
       "      <th>659</th>\n",
       "      <td>977</td>\n",
       "      <td>660</td>\n",
       "      <td>軽自動車税の納税証明書を取りたい。</td>\n",
       "      <td>軽自動車税の納税証明書は、（申請場所（自治体の担当課、支所・出張所等））で発行しています。\\...</td>\n",
       "      <td>税金</td>\n",
       "      <td>軽自動車税</td>\n",
       "      <td>NaN</td>\n",
       "      <td>税</td>\n",
       "      <td>軽自動車税</td>\n",
       "    </tr>\n",
       "    <tr>\n",
       "      <th>660</th>\n",
       "      <td>979</td>\n",
       "      <td>661</td>\n",
       "      <td>禁煙・分園の公園はどこですか？</td>\n",
       "      <td>○○市では園内の受動喫煙防止対策として分煙環境を整備するため、市立公園○か所を、禁煙公園また...</td>\n",
       "      <td>施設</td>\n",
       "      <td>区立公園</td>\n",
       "      <td>NaN</td>\n",
       "      <td>NaN</td>\n",
       "      <td>NaN</td>\n",
       "    </tr>\n",
       "    <tr>\n",
       "      <th>661</th>\n",
       "      <td>981</td>\n",
       "      <td>662</td>\n",
       "      <td>住民税の計算方法を教えてください。</td>\n",
       "      <td>住民税の算出方法についてはこちらをご覧ください。\\n（自治体HP内関連ページのURL）</td>\n",
       "      <td>税金</td>\n",
       "      <td>住民税</td>\n",
       "      <td>NaN</td>\n",
       "      <td>NaN</td>\n",
       "      <td>NaN</td>\n",
       "    </tr>\n",
       "  </tbody>\n",
       "</table>\n",
       "<p>662 rows × 9 columns</p>\n",
       "</div>"
      ],
      "text/plain": [
       "      id  sample_id                      question  \\\n",
       "0      1          1  母子手帳を受け取りたいのですが、手続きを教えてください。   \n",
       "1      2          2            母子手帳の受け取り場所はどこですか？   \n",
       "2      3          3           母子手帳はすぐに発行してもらえますか？   \n",
       "3      4          4          妊婦健診受診票はいつの分から使えますか？   \n",
       "4      5          5           妊婦健診受診票は○○市外で使えますか？   \n",
       "..   ...        ...                           ...   \n",
       "657  975        658             帰宅困難者の避難施設はどこですか？   \n",
       "658  976        659               住民税の納税証明書を取りたい。   \n",
       "659  977        660             軽自動車税の納税証明書を取りたい。   \n",
       "660  979        661               禁煙・分園の公園はどこですか？   \n",
       "661  981        662             住民税の計算方法を教えてください。   \n",
       "\n",
       "                                                answer category1 category2  \\\n",
       "0    窓口で妊娠届をご記入いただき、母子手帳をお渡しします。\\n住民票の世帯が別の方が代理で窓口に...     妊娠・出産        妊娠   \n",
       "1    母子手帳は、○○市役所本庁舎△△階××課窓口、◎◎出張所、………（その他の受け取り場所を適宜...     妊娠・出産        妊娠   \n",
       "2    母子手帳は、妊娠届の内容を確認させていただき、その場でお渡しします。\\n\\n▼詳しくはこちら...     妊娠・出産        妊娠   \n",
       "3    妊婦健診の受診票は、受診票を受け取った日より後で、病院が妊婦健診と規定した日に利用できます。...     妊娠・出産        健診   \n",
       "4    妊婦健診の受診票は、●●県内の契約医療機関でお使いいただけます。\\n受診希望の病院にお問い合...     妊娠・出産        健診   \n",
       "..                                                 ...       ...       ...   \n",
       "657  帰宅困難者のための支援（受入）施設についてはこちらをご覧ください。\\n（自治体HP内関連ペー...     防災・防犯       NaN   \n",
       "658  住民税の納税証明書は、（申請場所（自治体の担当課、支所・出張所等））で発行しています。\\n申...        税金       住民税   \n",
       "659  軽自動車税の納税証明書は、（申請場所（自治体の担当課、支所・出張所等））で発行しています。\\...        税金     軽自動車税   \n",
       "660  ○○市では園内の受動喫煙防止対策として分煙環境を整備するため、市立公園○か所を、禁煙公園また...        施設      区立公園   \n",
       "661        住民税の算出方法についてはこちらをご覧ください。\\n（自治体HP内関連ページのURL）        税金       住民税   \n",
       "\n",
       "     source    tag     service_name  \n",
       "0       NaN  妊娠・出産  妊娠の届出・母子健康手帳の交付  \n",
       "1       NaN  妊娠・出産  妊娠の届出・母子健康手帳の交付  \n",
       "2       NaN  妊娠・出産  妊娠の届出・母子健康手帳の交付  \n",
       "3       NaN  妊娠・出産           妊婦健康診査  \n",
       "4       NaN  妊娠・出産           妊婦健康診査  \n",
       "..      ...    ...              ...  \n",
       "657     NaN  防災・災害          帰宅困難者対策  \n",
       "658     NaN      税         市税の証明・閲覧  \n",
       "659     NaN      税            軽自動車税  \n",
       "660     NaN    NaN              NaN  \n",
       "661     NaN    NaN              NaN  \n",
       "\n",
       "[662 rows x 9 columns]"
      ]
     },
     "execution_count": 15,
     "metadata": {},
     "output_type": "execute_result"
    }
   ],
   "source": [
    "df = pd.read_excel('../data/faq_data.xlsx')\n",
    "df.set_axis(['id', 'sample_id', 'question', 'answer', 'category1', 'category2', 'source', 'tag', 'service_name'], axis='columns', inplace=True)\n",
    "df"
   ]
  },
  {
   "cell_type": "code",
   "execution_count": 25,
   "metadata": {},
   "outputs": [
    {
     "data": {
      "text/plain": [
       "保育                    146\n",
       "子どもの手当・助成             127\n",
       "妊娠・出産                  83\n",
       "健診・予防接種                66\n",
       "施設                     60\n",
       "学校・教育                  37\n",
       "健康・医療                  20\n",
       "暮らしに役立つ情報              20\n",
       "住民票・戸籍・印鑑証明            19\n",
       "子育て・子ども家庭支援            12\n",
       "ごみ・リサイクル               12\n",
       "防災・防犯                  10\n",
       "税金                      9\n",
       "渋谷区LINE公式アカウントについて      5\n",
       "観光・イベント                 5\n",
       "区の紹介                    5\n",
       "生涯学習・スポーツ               4\n",
       "施策・計画・取り組み              4\n",
       "保険・年金                   3\n",
       "障害者                     3\n",
       "環境衛生                    3\n",
       "暮らしに関する相談               2\n",
       "採用・職員情報                 2\n",
       "女性相談                    1\n",
       "商工・労働・相談                1\n",
       "広報                      1\n",
       "高齢者・介護と福祉サービス           1\n",
       "地域                      1\n",
       "Name: category1, dtype: int64"
      ]
     },
     "execution_count": 25,
     "metadata": {},
     "output_type": "execute_result"
    }
   ],
   "source": [
    "df['category1'].value_counts()"
   ]
  },
  {
   "cell_type": "code",
   "execution_count": 27,
   "metadata": {},
   "outputs": [
    {
     "data": {
      "text/plain": [
       "医療費助成          53\n",
       "手当             45\n",
       "保育園の入園申込       44\n",
       "相談・学級          43\n",
       "保育園・幼保一元化施設    37\n",
       "               ..\n",
       "通学区域            1\n",
       "幼児食講習会          1\n",
       "各種相談            1\n",
       "その他             1\n",
       "軽自動車税           1\n",
       "Name: category2, Length: 80, dtype: int64"
      ]
     },
     "execution_count": 27,
     "metadata": {},
     "output_type": "execute_result"
    }
   ],
   "source": [
    "df['category2'].value_counts()"
   ]
  },
  {
   "cell_type": "code",
   "execution_count": 29,
   "metadata": {},
   "outputs": [
    {
     "data": {
      "text/plain": [
       "Series([], Name: source, dtype: int64)"
      ]
     },
     "execution_count": 29,
     "metadata": {},
     "output_type": "execute_result"
    }
   ],
   "source": [
    "df['source'].value_counts()"
   ]
  },
  {
   "cell_type": "code",
   "execution_count": 30,
   "metadata": {},
   "outputs": [
    {
     "data": {
      "text/plain": [
       "子育て                   205\n",
       "妊娠・出産                 135\n",
       "妊娠・出産\\n子育て             13\n",
       "健康・医療                  11\n",
       "教育                     10\n",
       "文化・スポーツ・生涯学習            9\n",
       "戸籍・住民票・印鑑登録（など）         8\n",
       "ごみ・環境保全                 8\n",
       "防災・災害                   6\n",
       "税                       5\n",
       "ペット                     5\n",
       "引越し・住まい                 4\n",
       "結婚・離婚                   3\n",
       "子育て\\n文化・スポーツ・生涯学習       2\n",
       "駐輪・駐車                   2\n",
       "就職・退職                   2\n",
       "子育て\\n高齢者・介護\\n健康・医療      2\n",
       "子育て\\n防犯・犯罪              2\n",
       "防犯・犯罪                   1\n",
       "水道・ガス・電気                1\n",
       "妊娠・出産\\n高齢者・介護           1\n",
       "救急・消防                   1\n",
       "福祉                      1\n",
       "Name: tag, dtype: int64"
      ]
     },
     "execution_count": 30,
     "metadata": {},
     "output_type": "execute_result"
    }
   ],
   "source": [
    "df['tag'].value_counts()"
   ]
  },
  {
   "cell_type": "code",
   "execution_count": 31,
   "metadata": {},
   "outputs": [
    {
     "data": {
      "text/plain": [
       "児童手当                                              37\n",
       "教育・保育施設、地域型保育の保育料の減免                              23\n",
       "子育て支援センター\\n子育てに関する相談窓口一覧\\n子育て相談\\n▲▲市の子育てに関する相談    22\n",
       "乳幼児医療費の助成(子ども医療費)                                 20\n",
       "定期予防接種\\n任意予防接種                                    14\n",
       "                                                  ..\n",
       "乳幼児健康診査（6か月から12か月）                                 1\n",
       "地震が来たら                                             1\n",
       "紙類の拠点回収                                            1\n",
       "虐待から子どもを守るために                                      1\n",
       "軽自動車税                                              1\n",
       "Name: service_name, Length: 132, dtype: int64"
      ]
     },
     "execution_count": 31,
     "metadata": {},
     "output_type": "execute_result"
    }
   ],
   "source": [
    "df['service_name'].value_counts()"
   ]
  },
  {
   "cell_type": "code",
   "execution_count": null,
   "metadata": {},
   "outputs": [],
   "source": []
  }
 ],
 "metadata": {
  "interpreter": {
   "hash": "767d51c1340bd893661ea55ea3124f6de3c7a262a8b4abca0554b478b1e2ff90"
  },
  "kernelspec": {
   "display_name": "Python 3.8.10 64-bit",
   "language": "python",
   "name": "python3"
  },
  "language_info": {
   "codemirror_mode": {
    "name": "ipython",
    "version": 3
   },
   "file_extension": ".py",
   "mimetype": "text/x-python",
   "name": "python",
   "nbconvert_exporter": "python",
   "pygments_lexer": "ipython3",
   "version": "3.8.10"
  },
  "orig_nbformat": 4
 },
 "nbformat": 4,
 "nbformat_minor": 2
}
